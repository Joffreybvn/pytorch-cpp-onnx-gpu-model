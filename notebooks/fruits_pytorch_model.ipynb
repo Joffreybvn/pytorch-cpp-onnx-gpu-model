{
  "nbformat": 4,
  "nbformat_minor": 0,
  "metadata": {
    "colab": {
      "name": "fruits_pytorch_cpp_model.ipynb",
      "provenance": []
    },
    "kernelspec": {
      "name": "python3",
      "display_name": "Python 3"
    },
    "accelerator": "GPU"
  },
  "cells": [
    {
      "cell_type": "markdown",
      "metadata": {
        "id": "xrQh1kRqQ6Cx"
      },
      "source": [
        "# Imports\n"
      ]
    },
    {
      "cell_type": "code",
      "metadata": {
        "colab": {
          "base_uri": "https://localhost:8080/"
        },
        "id": "6U1r0q-tT3rV",
        "outputId": "ddff7ae0-dc3b-4d8f-f161-2e0adab8a457"
      },
      "source": [
        "!pip install pytorch-ignite"
      ],
      "execution_count": 4,
      "outputs": [
        {
          "output_type": "stream",
          "text": [
            "Requirement already satisfied: pytorch-ignite in /usr/local/lib/python3.6/dist-packages (0.4.3)\n",
            "Requirement already satisfied: torch<2,>=1.3 in /usr/local/lib/python3.6/dist-packages (from pytorch-ignite) (1.7.0+cu101)\n",
            "Requirement already satisfied: dataclasses in /usr/local/lib/python3.6/dist-packages (from torch<2,>=1.3->pytorch-ignite) (0.8)\n",
            "Requirement already satisfied: typing-extensions in /usr/local/lib/python3.6/dist-packages (from torch<2,>=1.3->pytorch-ignite) (3.7.4.3)\n",
            "Requirement already satisfied: future in /usr/local/lib/python3.6/dist-packages (from torch<2,>=1.3->pytorch-ignite) (0.16.0)\n",
            "Requirement already satisfied: numpy in /usr/local/lib/python3.6/dist-packages (from torch<2,>=1.3->pytorch-ignite) (1.19.5)\n"
          ],
          "name": "stdout"
        }
      ]
    },
    {
      "cell_type": "markdown",
      "metadata": {
        "id": "aRirckb5Q85Q"
      },
      "source": [
        "### Libraries"
      ]
    },
    {
      "cell_type": "code",
      "metadata": {
        "colab": {
          "base_uri": "https://localhost:8080/"
        },
        "id": "mhGgBF1TQrnl",
        "outputId": "6237f83c-5080-4c75-a15a-3ae6f58949e9"
      },
      "source": [
        "# Model creation\n",
        "import torch\n",
        "import torchvision\n",
        "from torchvision import datasets, transforms, models\n",
        "from torch import nn, optim\n",
        "import torch.nn.functional as F\n",
        "import torch_metrics\n",
        "\n",
        "# Data manipulation\n",
        "import h5py\n",
        "import numpy as np\n",
        "import pandas as pd\n",
        "import matplotlib.pyplot as plt\n",
        "import seaborn as sns\n",
        "\n",
        "print(torch.__version__)\n",
        "print(torchvision.__version__)"
      ],
      "execution_count": 5,
      "outputs": [
        {
          "output_type": "stream",
          "text": [
            "1.7.0+cu101\n",
            "0.8.1+cu101\n"
          ],
          "name": "stdout"
        }
      ]
    },
    {
      "cell_type": "markdown",
      "metadata": {
        "id": "tmf70sq1RGqM"
      },
      "source": [
        "### Device"
      ]
    },
    {
      "cell_type": "code",
      "metadata": {
        "colab": {
          "base_uri": "https://localhost:8080/"
        },
        "id": "OLOAkkZCRHsB",
        "outputId": "629ed677-e6e8-4784-ed5b-1e131f9ffcaa"
      },
      "source": [
        "torch.cuda.is_available()"
      ],
      "execution_count": 6,
      "outputs": [
        {
          "output_type": "execute_result",
          "data": {
            "text/plain": [
              "True"
            ]
          },
          "metadata": {
            "tags": []
          },
          "execution_count": 6
        }
      ]
    },
    {
      "cell_type": "code",
      "metadata": {
        "colab": {
          "base_uri": "https://localhost:8080/"
        },
        "id": "fec6FlkXRJon",
        "outputId": "7c810c83-5292-43fb-c4f0-0e95dfcce03a"
      },
      "source": [
        "device = torch.device('cuda' if torch.cuda.is_available() else 'cpu')\n",
        "device"
      ],
      "execution_count": 7,
      "outputs": [
        {
          "output_type": "execute_result",
          "data": {
            "text/plain": [
              "device(type='cuda')"
            ]
          },
          "metadata": {
            "tags": []
          },
          "execution_count": 7
        }
      ]
    },
    {
      "cell_type": "markdown",
      "metadata": {
        "id": "XGhYP6evQvQo"
      },
      "source": [
        "### Dataset"
      ]
    },
    {
      "cell_type": "code",
      "metadata": {
        "id": "jiVLuxEkRE32"
      },
      "source": [
        "root_path = \"/content/drive/MyDrive/datas/fruits/\"\n",
        "dataset_path = f\"{root_path}clean_dataset/\""
      ],
      "execution_count": 8,
      "outputs": []
    },
    {
      "cell_type": "code",
      "metadata": {
        "id": "e9D2yZCCREzJ"
      },
      "source": [
        "h5f = h5py.File(f'{dataset_path}/dataset.h5py', 'r')\n",
        "\n",
        "np_images = np.array(h5f['images'])\n",
        "np_labels = np.array(h5f['labels'])"
      ],
      "execution_count": 9,
      "outputs": []
    },
    {
      "cell_type": "code",
      "metadata": {
        "colab": {
          "base_uri": "https://localhost:8080/"
        },
        "id": "__jRuo0SRa15",
        "outputId": "6feccbf8-7f9a-4ce8-de74-cceb73075465"
      },
      "source": [
        "np_images.shape"
      ],
      "execution_count": 10,
      "outputs": [
        {
          "output_type": "execute_result",
          "data": {
            "text/plain": [
              "(3775, 120, 120, 3)"
            ]
          },
          "metadata": {
            "tags": []
          },
          "execution_count": 10
        }
      ]
    },
    {
      "cell_type": "code",
      "metadata": {
        "colab": {
          "base_uri": "https://localhost:8080/"
        },
        "id": "BG3ojWazRbrD",
        "outputId": "b4fa552a-e4f1-4314-8b82-026ea0fa89e6"
      },
      "source": [
        "np_labels.shape"
      ],
      "execution_count": 11,
      "outputs": [
        {
          "output_type": "execute_result",
          "data": {
            "text/plain": [
              "(3775,)"
            ]
          },
          "metadata": {
            "tags": []
          },
          "execution_count": 11
        }
      ]
    },
    {
      "cell_type": "code",
      "metadata": {
        "id": "dBrLbw2_TDiX"
      },
      "source": [
        "np_images = np.swapaxes(np_images, 1, 3)"
      ],
      "execution_count": 12,
      "outputs": []
    },
    {
      "cell_type": "markdown",
      "metadata": {
        "id": "-1ZatOJXRfSk"
      },
      "source": [
        "# Preprocessing"
      ]
    },
    {
      "cell_type": "markdown",
      "metadata": {
        "id": "xCQpI_w7RimB"
      },
      "source": [
        "### Split train/test"
      ]
    },
    {
      "cell_type": "code",
      "metadata": {
        "id": "aiszzjEDRgmd"
      },
      "source": [
        "from sklearn.model_selection import train_test_split\n",
        "\n",
        "X_train, X_test, y_train, y_test = train_test_split(np_images, np_labels, test_size=0.20, random_state=42)"
      ],
      "execution_count": 13,
      "outputs": []
    },
    {
      "cell_type": "markdown",
      "metadata": {
        "id": "r16CcSG3RqPn"
      },
      "source": [
        "### Custom dataset"
      ]
    },
    {
      "cell_type": "code",
      "metadata": {
        "id": "VkOmZHVuRtEP"
      },
      "source": [
        "transforms_pipe = transforms.Compose([\n",
        "                                     \n",
        "  # transforms.RandomSizedCrop(224),\n",
        "  # transforms.RandomHorizontalFlip(),\n",
        "  # torchvision.transforms.RandomRotation(10),\n",
        "  # transforms.ToTensor() \n",
        "])"
      ],
      "execution_count": 14,
      "outputs": []
    },
    {
      "cell_type": "markdown",
      "metadata": {
        "id": "7R69fZVlRy0N"
      },
      "source": [
        "We define two custom Dataset classes"
      ]
    },
    {
      "cell_type": "code",
      "metadata": {
        "id": "1c4Gz6jzRymw"
      },
      "source": [
        "class TrainDataset(torch.utils.data.Dataset):\n",
        "    \"\"\"TensorDataset with support of transforms.\"\"\"\n",
        "\n",
        "    def __init__(self, arrays, transform=None):\n",
        "\n",
        "        # Convert to a tuple of tensors\n",
        "        self.tensors = (torch.Tensor(arrays[0]), torch.LongTensor(arrays[1]))\n",
        "        self.transform = transform\n",
        "\n",
        "        # Triggered if the tensors format is incorrect\n",
        "        assert all(self.tensors[0].size(0) == tensor.size(0) for tensor in self.tensors)\n",
        "\n",
        "    def __getitem__(self, index):\n",
        "        x = self.tensors[0][index]\n",
        "\n",
        "        if self.transform:\n",
        "            x = self.transform(x)\n",
        "\n",
        "        y = self.tensors[1][index]\n",
        "\n",
        "        return x.to(device), y.to(device)\n",
        "\n",
        "    def __len__(self):\n",
        "        return self.tensors[0].size(0)"
      ],
      "execution_count": 15,
      "outputs": []
    },
    {
      "cell_type": "code",
      "metadata": {
        "id": "unlknAi_R4Vr"
      },
      "source": [
        "class TestDataset(torch.utils.data.Dataset):\n",
        "    \"\"\"TensorDataset without transforms.\"\"\"\n",
        "\n",
        "    def __init__(self, arrays, transform=None):\n",
        "\n",
        "        # Convert to a tuple of tensors\n",
        "        self.tensors = (torch.Tensor(arrays[0]), torch.LongTensor(arrays[1]))\n",
        "\n",
        "        # Triggered if the tensors format is incorrect\n",
        "        assert all(self.tensors[0].size(0) == tensor.size(0) for tensor in self.tensors)\n",
        "\n",
        "    def __getitem__(self, index):\n",
        "        x = self.tensors[0][index]\n",
        "        y = self.tensors[1][index]\n",
        "\n",
        "        return x.to(device), y.to(device)\n",
        "\n",
        "    def __len__(self):\n",
        "        return self.tensors[0].size(0)"
      ],
      "execution_count": 16,
      "outputs": []
    },
    {
      "cell_type": "code",
      "metadata": {
        "id": "ryHsUg1bR7uU"
      },
      "source": [
        "train_dataset = TrainDataset((X_train, y_train), transforms_pipe)\n",
        "test_dataset = TestDataset((X_test, y_test), transforms_pipe)"
      ],
      "execution_count": 17,
      "outputs": []
    },
    {
      "cell_type": "markdown",
      "metadata": {
        "id": "EjkfurXaR_-y"
      },
      "source": [
        "### Dataloader"
      ]
    },
    {
      "cell_type": "code",
      "metadata": {
        "id": "ifheeNRFR_ia"
      },
      "source": [
        " BATCH_SIZE = 32"
      ],
      "execution_count": 18,
      "outputs": []
    },
    {
      "cell_type": "code",
      "metadata": {
        "id": "hQaIgI_-SEAl"
      },
      "source": [
        "train_loader = torch.utils.data.DataLoader(\n",
        "    train_dataset, \n",
        "    batch_size=BATCH_SIZE,\n",
        "    shuffle=True\n",
        ")\n",
        "\n",
        "test_loader = torch.utils.data.DataLoader(\n",
        "    test_dataset,\n",
        "    batch_size=BATCH_SIZE,\n",
        "    shuffle=False\n",
        ")"
      ],
      "execution_count": 19,
      "outputs": []
    },
    {
      "cell_type": "markdown",
      "metadata": {
        "id": "forKVK-uSH7I"
      },
      "source": [
        "# Model"
      ]
    },
    {
      "cell_type": "markdown",
      "metadata": {
        "id": "qIEuHAnxr6Sp"
      },
      "source": [
        "### Architecture"
      ]
    },
    {
      "cell_type": "code",
      "metadata": {
        "id": "Dquf8DVBSHfR"
      },
      "source": [
        "class CNN(nn.Module):\n",
        "\n",
        "    def __init__(self):\n",
        "        super(CNN, self).__init__()\n",
        "\n",
        "        # Features detector\n",
        "        self.features1 = nn.Sequential(\n",
        "            \n",
        "            # Hidden layer 1\n",
        "            nn.Conv2d(3, 16, kernel_size=3), nn.ReLU(),\n",
        "            nn.BatchNorm2d(16),\n",
        "\n",
        "            nn.MaxPool2d((2, 2)),\n",
        "            nn.Dropout(0.35)\n",
        "        )\n",
        "\n",
        "        # Features detector\n",
        "        self.features2 = nn.Sequential(\n",
        "            \n",
        "            # Hidden layer 3\n",
        "            nn.Conv2d(16, 32, kernel_size=3), nn.ReLU(),\n",
        "            nn.BatchNorm2d(32),\n",
        "\n",
        "            nn.MaxPool2d((2, 2)),\n",
        "            nn.Dropout(0.35)\n",
        "        )\n",
        "\n",
        "        # Features detector\n",
        "        self.features3 = nn.Sequential(\n",
        "            \n",
        "            # Hidden layer 3\n",
        "            nn.Conv2d(32, 64, kernel_size=3), nn.ReLU(),\n",
        "            nn.BatchNorm2d(64),\n",
        "\n",
        "            nn.MaxPool2d((2, 2)),\n",
        "            nn.Dropout(0.35)\n",
        "        )\n",
        "\n",
        "        # Classifier\n",
        "        self.classifier = nn.Sequential(\n",
        "            \n",
        "            nn.Linear(64*13*13, 512), nn.ReLU(),\n",
        "            nn.BatchNorm1d(512),\n",
        "            nn.Dropout(0.50),\n",
        "\n",
        "            # Output layer\n",
        "            nn.Linear(512, 108)\n",
        "        )\n",
        "\n",
        "    def forward(self, X):\n",
        "\n",
        "        # Features\n",
        "        X = self.features1(X)\n",
        "        X = self.features2(X)\n",
        "        X = self.features3(X)\n",
        "\n",
        "        # print(X.shape)\n",
        "\n",
        "        # Classifier\n",
        "        X = X.view(-1, 64*13*13)\n",
        "        #X = X.view(X.size(0), -1)\n",
        "        X = self.classifier(X)\n",
        "\n",
        "        return F.log_softmax(X, dim=1)"
      ],
      "execution_count": 20,
      "outputs": []
    },
    {
      "cell_type": "code",
      "metadata": {
        "colab": {
          "base_uri": "https://localhost:8080/"
        },
        "id": "lrwrrkFQSf0Z",
        "outputId": "0d87e6fd-9a74-4ddd-f0ca-c3dc5fdc2ff3"
      },
      "source": [
        "model = CNN()\n",
        "model.to(device)\n",
        "\n",
        "# Number of parameters\n",
        "sum(p.numel() for p in model.parameters() if p.requires_grad)"
      ],
      "execution_count": 21,
      "outputs": [
        {
          "output_type": "execute_result",
          "data": {
            "text/plain": [
              "5618540"
            ]
          },
          "metadata": {
            "tags": []
          },
          "execution_count": 21
        }
      ]
    },
    {
      "cell_type": "markdown",
      "metadata": {
        "id": "ql3GY0cdr78r"
      },
      "source": [
        "### Loss and optimizer"
      ]
    },
    {
      "cell_type": "code",
      "metadata": {
        "id": "bKIowo_esGqJ"
      },
      "source": [
        "criterion = nn.NLLLoss()\n",
        "optimizer = torch.optim.Adam(model.parameters(), lr=0.000005)"
      ],
      "execution_count": 22,
      "outputs": []
    },
    {
      "cell_type": "markdown",
      "metadata": {
        "id": "L9shChbmsTdM"
      },
      "source": [
        "### Train/test engines"
      ]
    },
    {
      "cell_type": "code",
      "metadata": {
        "colab": {
          "base_uri": "https://localhost:8080/",
          "height": 231
        },
        "id": "0raBmk5bsVjk",
        "outputId": "73fe24b6-66c6-4284-e7f2-494e757b0151"
      },
      "source": [
        "from ignite.engine import Engine\n",
        "\n",
        "def train_step(engine, batch):\n",
        "\n",
        "    x, y = batch\n",
        "\n",
        "    # Pass a batch\n",
        "    model.train()\n",
        "    y_pred = model(x)\n",
        "    loss = criterion(y_pred, y)\n",
        "\n",
        "    # Learn by backpropagation\n",
        "    optimizer.zero_grad()\n",
        "    loss.backward()\n",
        "    optimizer.step()\n",
        "\n",
        "    return loss\n",
        "\n",
        "def validation_step(engine, batch):\n",
        "    model.eval()\n",
        "\n",
        "    with torch.no_grad():\n",
        "        x, y = batch[0], batch[1]\n",
        "        y_pred = model(x)\n",
        "\n",
        "        return y_pred, y\n",
        "\n",
        "# Define a trainer engine\n",
        "trainer = Engine(train_step)\n",
        "\n",
        "# Define an evaluator engine\n",
        "evaluator = Engine(validation_step)\n",
        "\n",
        "val_metrics = {\n",
        "  \"accuracy\": Accuracy(),\n",
        "  \"loss\": Loss(criterion)\n",
        "}\n",
        "\n",
        "# Attach metrics to the evaluator\n",
        "for name, metric in val_metrics.items():\n",
        "    metric.attach(evaluator, name)"
      ],
      "execution_count": 23,
      "outputs": [
        {
          "output_type": "error",
          "ename": "NameError",
          "evalue": "ignored",
          "traceback": [
            "\u001b[0;31m---------------------------------------------------------------------------\u001b[0m",
            "\u001b[0;31mNameError\u001b[0m                                 Traceback (most recent call last)",
            "\u001b[0;32m<ipython-input-23-c85e764c5240>\u001b[0m in \u001b[0;36m<module>\u001b[0;34m()\u001b[0m\n\u001b[1;32m     33\u001b[0m \u001b[0;34m\u001b[0m\u001b[0m\n\u001b[1;32m     34\u001b[0m val_metrics = {\n\u001b[0;32m---> 35\u001b[0;31m   \u001b[0;34m\"accuracy\"\u001b[0m\u001b[0;34m:\u001b[0m \u001b[0mAccuracy\u001b[0m\u001b[0;34m(\u001b[0m\u001b[0;34m)\u001b[0m\u001b[0;34m,\u001b[0m\u001b[0;34m\u001b[0m\u001b[0;34m\u001b[0m\u001b[0m\n\u001b[0m\u001b[1;32m     36\u001b[0m   \u001b[0;34m\"loss\"\u001b[0m\u001b[0;34m:\u001b[0m \u001b[0mLoss\u001b[0m\u001b[0;34m(\u001b[0m\u001b[0mcriterion\u001b[0m\u001b[0;34m)\u001b[0m\u001b[0;34m\u001b[0m\u001b[0;34m\u001b[0m\u001b[0m\n\u001b[1;32m     37\u001b[0m }\n",
            "\u001b[0;31mNameError\u001b[0m: name 'Accuracy' is not defined"
          ]
        }
      ]
    },
    {
      "cell_type": "markdown",
      "metadata": {
        "id": "HXvjvk94tNBC"
      },
      "source": [
        "### Evaluation metrics"
      ]
    },
    {
      "cell_type": "code",
      "metadata": {
        "id": "I0UPE2QLtOoj"
      },
      "source": [
        "from ignite.metrics import Accuracy, Loss\n",
        "from ignite.engine import create_supervised_evaluator\n",
        "from ignite.contrib.handlers import ProgressBar\n",
        "from ignite.engine import Events\n",
        "\n",
        "# Accuracy and loss metrics are defined\n",
        "val_metrics = {\n",
        "  \"accuracy\": Accuracy(),\n",
        "  \"loss\": Loss(criterion)\n",
        "}\n",
        "\n",
        "train_evaluator = create_supervised_evaluator(model, metrics=val_metrics, device=device)\n",
        "\n",
        "# Run train_evaluator on train_loader every trainer's epoch completed\n",
        "@trainer.on(Events.EPOCH_COMPLETED)\n",
        "def run_train_validation():\n",
        "    train_evaluator.run(train_loader)\n",
        "\n",
        "# Run evaluator on val_loader every trainer's epoch completed\n",
        "@trainer.on(Events.EPOCH_COMPLETED)\n",
        "def run_validation():\n",
        "    evaluator.run(test_loader)\n",
        "\n",
        "\n",
        "@evaluator.on(Events.COMPLETED)\n",
        "def log_validation_results():\n",
        "    metrics = evaluator.state.metrics\n",
        "    print(\"       Validation - Accuracy: {:.3f} Loss: {:.4f} \\n\"\n",
        "          .format(metrics[\"accuracy\"], metrics[\"loss\"]))\n",
        "    \n",
        "@train_evaluator.on(Events.COMPLETED)\n",
        "def log_train_results():\n",
        "    metrics = train_evaluator.state.metrics\n",
        "    print(\"Epoch: {} Training - Accuracy: {:.3f} Loss: {:.4f}\"\n",
        "          .format(trainer.state.epoch, metrics[\"accuracy\"], metrics[\"loss\"]))\n",
        "\n",
        "ProgressBar().attach(trainer, output_transform=lambda x: {'batch loss': x})"
      ],
      "execution_count": null,
      "outputs": []
    },
    {
      "cell_type": "markdown",
      "metadata": {
        "id": "N2AnmSrWwEd3"
      },
      "source": [
        "### Training"
      ]
    },
    {
      "cell_type": "code",
      "metadata": {
        "colab": {
          "base_uri": "https://localhost:8080/"
        },
        "id": "Anvg2wJuuTs3",
        "outputId": "de1bc5f2-8674-47d7-b1ab-694fb71f545a"
      },
      "source": [
        "trainer.run(train_loader, max_epochs=15)"
      ],
      "execution_count": 24,
      "outputs": [
        {
          "output_type": "execute_result",
          "data": {
            "text/plain": [
              "State:\n",
              "\titeration: 1425\n",
              "\tepoch: 15\n",
              "\tepoch_length: 95\n",
              "\tmax_epochs: 15\n",
              "\toutput: <class 'torch.Tensor'>\n",
              "\tbatch: <class 'list'>\n",
              "\tmetrics: <class 'dict'>\n",
              "\tdataloader: torch.utils.data.dataloader.DataLoader\n",
              "\tseed: <class 'NoneType'>\n",
              "\ttimes: <class 'dict'>"
            ]
          },
          "metadata": {
            "tags": []
          },
          "execution_count": 24
        }
      ]
    },
    {
      "cell_type": "markdown",
      "metadata": {
        "id": "HmgXb5Hb_qnv"
      },
      "source": [
        "# Evaluation"
      ]
    },
    {
      "cell_type": "code",
      "metadata": {
        "id": "R1oUbTQ-_s26"
      },
      "source": [
        "@torch.no_grad()\n",
        "def get_all_preds(model, loader):\n",
        "    all_preds = torch.tensor([], device=device)\n",
        "\n",
        "    for images, labels in loader:\n",
        "        preds = model(images)\n",
        "\n",
        "        all_preds = torch.cat((all_preds, preds),dim=0)\n",
        "    return all_preds"
      ],
      "execution_count": 25,
      "outputs": []
    },
    {
      "cell_type": "code",
      "metadata": {
        "id": "25vXoP52B25Y"
      },
      "source": [
        "with torch.no_grad():\n",
        "    test_preds = get_all_preds(model, test_loader)"
      ],
      "execution_count": 26,
      "outputs": []
    },
    {
      "cell_type": "code",
      "metadata": {
        "id": "-ERIxfNgB-Ag"
      },
      "source": [
        "from sklearn.metrics import confusion_matrix\n",
        "prediction = test_preds.argmax(dim=1).to('cpu')"
      ],
      "execution_count": 27,
      "outputs": []
    },
    {
      "cell_type": "markdown",
      "metadata": {
        "id": "WfJvpuOJJS_m"
      },
      "source": [
        "### Confusion matrix"
      ]
    },
    {
      "cell_type": "code",
      "metadata": {
        "colab": {
          "base_uri": "https://localhost:8080/",
          "height": 500
        },
        "id": "1FqIjDuYCBQA",
        "outputId": "9d6d6c12-d426-4a5f-fd65-fc69ccdc4316"
      },
      "source": [
        "conf_matrix = confusion_matrix(y_test, prediction)\n",
        "\n",
        "plt.figure(figsize=(8, 8))\n",
        "sns.heatmap(conf_matrix, annot=True, fmt='g')"
      ],
      "execution_count": 29,
      "outputs": [
        {
          "output_type": "execute_result",
          "data": {
            "text/plain": [
              "<matplotlib.axes._subplots.AxesSubplot at 0x7f348066a6d8>"
            ]
          },
          "metadata": {
            "tags": []
          },
          "execution_count": 29
        },
        {
          "output_type": "display_data",
          "data": {
            "image/png": "[encoded data removed]",
            "text/plain": [
              "<Figure size 576x576 with 2 Axes>"
            ]
          },
          "metadata": {
            "tags": [],
            "needs_background": "light"
          }
        }
      ]
    },
    {
      "cell_type": "markdown",
      "metadata": {
        "id": "0uGas_XJJMt2"
      },
      "source": [
        "# Exportation"
      ]
    },
    {
      "cell_type": "markdown",
      "metadata": {
        "id": "KxNC9C_VL6_y"
      },
      "source": [
        "This model has been trained on GPU"
      ]
    },
    {
      "cell_type": "code",
      "metadata": {
        "id": "i7oxNsYeLH_n"
      },
      "source": [
        "export_path = \"./model/\""
      ],
      "execution_count": 31,
      "outputs": []
    },
    {
      "cell_type": "code",
      "metadata": {
        "colab": {
          "base_uri": "https://localhost:8080/"
        },
        "id": "bEd6OmDEMR-A",
        "outputId": "7891f3e6-5262-4e56-819d-0b255e19fdbb"
      },
      "source": [
        "model.eval()"
      ],
      "execution_count": 40,
      "outputs": [
        {
          "output_type": "execute_result",
          "data": {
            "text/plain": [
              "CNN(\n",
              "  (features1): Sequential(\n",
              "    (0): Conv2d(3, 16, kernel_size=(3, 3), stride=(1, 1))\n",
              "    (1): ReLU()\n",
              "    (2): BatchNorm2d(16, eps=1e-05, momentum=0.1, affine=True, track_running_stats=True)\n",
              "    (3): MaxPool2d(kernel_size=(2, 2), stride=(2, 2), padding=0, dilation=1, ceil_mode=False)\n",
              "    (4): Dropout(p=0.35, inplace=False)\n",
              "  )\n",
              "  (features2): Sequential(\n",
              "    (0): Conv2d(16, 32, kernel_size=(3, 3), stride=(1, 1))\n",
              "    (1): ReLU()\n",
              "    (2): BatchNorm2d(32, eps=1e-05, momentum=0.1, affine=True, track_running_stats=True)\n",
              "    (3): MaxPool2d(kernel_size=(2, 2), stride=(2, 2), padding=0, dilation=1, ceil_mode=False)\n",
              "    (4): Dropout(p=0.35, inplace=False)\n",
              "  )\n",
              "  (features3): Sequential(\n",
              "    (0): Conv2d(32, 64, kernel_size=(3, 3), stride=(1, 1))\n",
              "    (1): ReLU()\n",
              "    (2): BatchNorm2d(64, eps=1e-05, momentum=0.1, affine=True, track_running_stats=True)\n",
              "    (3): MaxPool2d(kernel_size=(2, 2), stride=(2, 2), padding=0, dilation=1, ceil_mode=False)\n",
              "    (4): Dropout(p=0.35, inplace=False)\n",
              "  )\n",
              "  (classifier): Sequential(\n",
              "    (0): Linear(in_features=10816, out_features=512, bias=True)\n",
              "    (1): ReLU()\n",
              "    (2): BatchNorm1d(512, eps=1e-05, momentum=0.1, affine=True, track_running_stats=True)\n",
              "    (3): Dropout(p=0.5, inplace=False)\n",
              "    (4): Linear(in_features=512, out_features=108, bias=True)\n",
              "  )\n",
              ")"
            ]
          },
          "metadata": {
            "tags": []
          },
          "execution_count": 40
        }
      ]
    },
    {
      "cell_type": "markdown",
      "metadata": {
        "id": "GPjhHpDnK4BR"
      },
      "source": [
        "### State dict"
      ]
    },
    {
      "cell_type": "code",
      "metadata": {
        "id": "5T5s5K0RK3ge"
      },
      "source": [
        "torch.save(model.state_dict(), export_path + 'state_dict.pt')"
      ],
      "execution_count": 41,
      "outputs": []
    },
    {
      "cell_type": "markdown",
      "metadata": {
        "id": "2A4C8RKyK5hz"
      },
      "source": [
        "### Full model"
      ]
    },
    {
      "cell_type": "code",
      "metadata": {
        "id": "oKsxfP9hK61r"
      },
      "source": [
        "torch.save(model, export_path + 'full_model.pt')"
      ],
      "execution_count": 42,
      "outputs": []
    },
    {
      "cell_type": "markdown",
      "metadata": {
        "id": "sVEi8VZWK7Gn"
      },
      "source": [
        "### Trace script"
      ]
    },
    {
      "cell_type": "markdown",
      "metadata": {
        "id": "HQY_hUPoMAmC"
      },
      "source": [
        "Create a traced script"
      ]
    },
    {
      "cell_type": "code",
      "metadata": {
        "id": "jSpkRK7eK816"
      },
      "source": [
        "sample = torch.rand(1, 3, 120, 120).to(device)\n",
        "traced_script_module = torch.jit.trace(model, sample)"
      ],
      "execution_count": 43,
      "outputs": []
    },
    {
      "cell_type": "markdown",
      "metadata": {
        "id": "RM__dCYRMZpD"
      },
      "source": [
        "Test the script"
      ]
    },
    {
      "cell_type": "code",
      "metadata": {
        "id": "1xXz8wTGMbR5"
      },
      "source": [
        "y_pred_sample = traced_script_module(torch.ones(1, 3, 120, 120).to(device))"
      ],
      "execution_count": 44,
      "outputs": []
    },
    {
      "cell_type": "code",
      "metadata": {
        "colab": {
          "base_uri": "https://localhost:8080/"
        },
        "id": "HE9GVvTlMhgI",
        "outputId": "738e079a-bcd6-484b-f536-ffffc6a0379b"
      },
      "source": [
        "y_pred_sample.argmax(dim=1)"
      ],
      "execution_count": 47,
      "outputs": [
        {
          "output_type": "execute_result",
          "data": {
            "text/plain": [
              "tensor([1], device='cuda:0')"
            ]
          },
          "metadata": {
            "tags": []
          },
          "execution_count": 47
        }
      ]
    },
    {
      "cell_type": "markdown",
      "metadata": {
        "id": "quVS0z1DMzX0"
      },
      "source": [
        "Save to disk"
      ]
    },
    {
      "cell_type": "code",
      "metadata": {
        "id": "brUzOF68M03O"
      },
      "source": [
        "traced_script_module.save(export_path + \"torchscript_model.pt\")"
      ],
      "execution_count": 48,
      "outputs": []
    }
  ]
}